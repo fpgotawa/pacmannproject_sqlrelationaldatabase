{
 "cells": [
  {
   "cell_type": "code",
   "execution_count": 37,
   "metadata": {},
   "outputs": [],
   "source": [
    "from faker import Faker\n",
    "from tabulate import tabulate\n",
    "import random\n",
    "from datetime import datetime, timedelta\n",
    "import pandas as pd"
   ]
  },
  {
   "cell_type": "code",
   "execution_count": 38,
   "metadata": {},
   "outputs": [],
   "source": [
    "FAKER = Faker('id_ID')"
   ]
  },
  {
   "attachments": {},
   "cell_type": "markdown",
   "metadata": {},
   "source": [
    "#### Cities"
   ]
  },
  {
   "cell_type": "code",
   "execution_count": 39,
   "metadata": {},
   "outputs": [],
   "source": [
    "cities = pd.read_csv('source\\cities.csv')"
   ]
  },
  {
   "cell_type": "code",
   "execution_count": 40,
   "metadata": {},
   "outputs": [],
   "source": [
    "cities['coordinate'] = [', '.join(i) for i in zip(cities[\"latitude\"].map(str),cities[\"longitude\"].map(str))]\n",
    "cities.drop(columns=['latitude','longitude'], inplace=True)\n",
    "cities.rename(columns={'kota_id':'city_id','nama_kota':'city_name'}, inplace=True)"
   ]
  },
  {
   "cell_type": "code",
   "execution_count": 41,
   "metadata": {},
   "outputs": [],
   "source": [
    "list_city_id = cities['city_id'].values.tolist()"
   ]
  },
  {
   "attachments": {},
   "cell_type": "markdown",
   "metadata": {},
   "source": [
    "#### Cars"
   ]
  },
  {
   "cell_type": "code",
   "execution_count": 42,
   "metadata": {},
   "outputs": [],
   "source": [
    "def duplicate_car_table(n_duplicate, is_print):\n",
    "    # Buat table\n",
    "    table = pd.read_csv('source\\cars.csv')\n",
    "    table_copy = table.copy()\n",
    "    for i in range(n_duplicate):\n",
    "        table_copy['year'] = [random.choice(range(2014,2022)) for i in range(len(table_copy['year']))]\n",
    "\n",
    "        table_copy_price = table_copy['price'].values.tolist()\n",
    "        random.shuffle(table_copy_price)\n",
    "        table_copy['price'] = table_copy_price\n",
    "        table = table.append(table_copy)\n",
    "    \n",
    "    table['product_id'] = [i+1 for i in range(len(table['product_id']))]\n",
    "    table['car_type'] = [random.choice(['Automatic','Manual']) for i in range(len(table['product_id']))]\n",
    "    table = table[['product_id','brand','model','body_type','car_type','year','price']]\n",
    "\n",
    "    # Print table\n",
    "    if is_print:\n",
    "        print(table)\n",
    "\n",
    "    return table"
   ]
  },
  {
   "cell_type": "code",
   "execution_count": 43,
   "metadata": {},
   "outputs": [
    {
     "name": "stdout",
     "output_type": "stream",
     "text": [
      "    product_id   brand          model  body_type   car_type  year      price\n",
      "0            1  Toyota   Toyota Yaris  Hatchback  Automatic  2016  175000000\n",
      "1            2  Toyota   Toyota Yaris  Hatchback  Automatic  2018  215000000\n",
      "2            3  Toyota   Toyota Yaris  Hatchback  Automatic  2014  162000000\n",
      "3            4  Toyota   Toyota Yaris  Hatchback     Manual  2020  220000000\n",
      "4            5  Toyota   Toyota Yaris  Hatchback     Manual  2012  124000000\n",
      "..         ...     ...            ...        ...        ...   ...        ...\n",
      "45         196  Suzuki  Suzuki Ertiga        MPV     Manual  2019  166000000\n",
      "46         197  Suzuki  Suzuki Ertiga        MPV  Automatic  2021  155500000\n",
      "47         198  Suzuki  Suzuki Ertiga        MPV  Automatic  2020  192000000\n",
      "48         199  Suzuki  Suzuki Ertiga        MPV  Automatic  2016  125000000\n",
      "49         200  Suzuki  Suzuki Ertiga        MPV  Automatic  2016   83000000\n",
      "\n",
      "[200 rows x 7 columns]\n"
     ]
    },
    {
     "name": "stderr",
     "output_type": "stream",
     "text": [
      "C:\\Users\\Fajar Praditya\\AppData\\Local\\Temp\\ipykernel_27992\\2725228665.py:11: FutureWarning: The frame.append method is deprecated and will be removed from pandas in a future version. Use pandas.concat instead.\n",
      "  table = table.append(table_copy)\n",
      "C:\\Users\\Fajar Praditya\\AppData\\Local\\Temp\\ipykernel_27992\\2725228665.py:11: FutureWarning: The frame.append method is deprecated and will be removed from pandas in a future version. Use pandas.concat instead.\n",
      "  table = table.append(table_copy)\n"
     ]
    }
   ],
   "source": [
    "cars = duplicate_car_table(3, is_print=True)"
   ]
  },
  {
   "attachments": {},
   "cell_type": "markdown",
   "metadata": {},
   "source": [
    "#### Sellers and Buyers"
   ]
  },
  {
   "cell_type": "code",
   "execution_count": 44,
   "metadata": {},
   "outputs": [],
   "source": [
    "def generate_name(n_name):\n",
    "\n",
    "    names = list()\n",
    "\n",
    "    while len(names) < n_name:\n",
    "\n",
    "        first_name = FAKER.first_name()\n",
    "        last_name = FAKER.last_name()\n",
    "\n",
    "        full_name = (f'{first_name} {last_name}')\n",
    "        if full_name not in names:\n",
    "            names.append(full_name)\n",
    "\n",
    "    return names"
   ]
  },
  {
   "cell_type": "code",
   "execution_count": 45,
   "metadata": {},
   "outputs": [],
   "source": [
    "def user_table(n_cust, is_print):\n",
    "    # Buat table\n",
    "    table = pd.DataFrame()\n",
    "    table['user_id'] = [i+1 for i in range(n_cust)]\n",
    "    names = generate_name(n_cust)\n",
    "    table['seller_name'] = [i for i in names] \n",
    "    table['email'] = [f\"{name.lower().replace(' ', '')}@{FAKER.free_email_domain()}\" \\\n",
    "                      for name in names]\n",
    "    table['phone_number'] = [FAKER.phone_number() for i in range(n_cust)]\n",
    "    table['city_id'] = [random.choice(list_city_id) for i in range(len(table['user_id']))]\n",
    "\n",
    "    # Print table\n",
    "    if is_print:\n",
    "        print(table)\n",
    "\n",
    "    return table"
   ]
  },
  {
   "cell_type": "code",
   "execution_count": 46,
   "metadata": {},
   "outputs": [
    {
     "name": "stdout",
     "output_type": "stream",
     "text": [
      "    user_id         seller_name                          email  \\\n",
      "0         1        Anom Fujiati          anomfujiati@gmail.com   \n",
      "1         2        Dono Saptono          donosaptono@gmail.com   \n",
      "2         3    Irnanto Prastuti      irnantoprastuti@yahoo.com   \n",
      "3         4       Dimas Nasyiah         dimasnasyiah@yahoo.com   \n",
      "4         5      Dartono Wasita        dartonowasita@gmail.com   \n",
      "5         6     Harsana Pranowo       harsanapranowo@gmail.com   \n",
      "6         7   Kairav Anggriawan     kairavanggriawan@yahoo.com   \n",
      "7         8       Emong Halimah         emonghalimah@yahoo.com   \n",
      "8         9       Saiful Marbun         saifulmarbun@gmail.com   \n",
      "9        10          Leo Usamah            leousamah@yahoo.com   \n",
      "10       11     Respati Fujiati     respatifujiati@hotmail.com   \n",
      "11       12  Bakianto Kurniawan  bakiantokurniawan@hotmail.com   \n",
      "12       13      Utama Wibisono        utamawibisono@gmail.com   \n",
      "13       14       Dalima Irawan         dalimairawan@gmail.com   \n",
      "14       15        Suci Wahyuni          suciwahyuni@yahoo.com   \n",
      "15       16       Bagus Sitorus         bagussitorus@yahoo.com   \n",
      "16       17    Caket Mangunsong      caketmangunsong@yahoo.com   \n",
      "17       18     Warsita Halimah       warsitahalimah@gmail.com   \n",
      "18       19    Cawisadi Siregar    cawisadisiregar@hotmail.com   \n",
      "19       20       Mahmud Wasita       mahmudwasita@hotmail.com   \n",
      "20       21       Puji Wahyudin         pujiwahyudin@yahoo.com   \n",
      "21       22      Waluyo Saputra      waluyosaputra@hotmail.com   \n",
      "22       23      Ami Widiastuti        amiwidiastuti@gmail.com   \n",
      "23       24  Cahyono Nurdiyanti    cahyononurdiyanti@gmail.com   \n",
      "24       25     Dalimin Nugroho     daliminnugroho@hotmail.com   \n",
      "25       26      Lamar Nasyidah        lamarnasyidah@gmail.com   \n",
      "26       27   Cahyanto Yuliarti   cahyantoyuliarti@hotmail.com   \n",
      "27       28     Unjani Marpaung       unjanimarpaung@gmail.com   \n",
      "28       29     Artawan Permata       artawanpermata@yahoo.com   \n",
      "29       30       Maria Santoso         mariasantoso@gmail.com   \n",
      "30       31       Zulfa Hariyah         zulfahariyah@yahoo.com   \n",
      "31       32    Keisha Wijayanti    keishawijayanti@hotmail.com   \n",
      "32       33    Yessi Firmansyah      yessifirmansyah@yahoo.com   \n",
      "33       34      Septi Mayasari        septimayasari@yahoo.com   \n",
      "34       35      Galiono Astuti        galionoastuti@yahoo.com   \n",
      "35       36       Utama Fujiati         utamafujiati@gmail.com   \n",
      "36       37        Galang Hakim          galanghakim@gmail.com   \n",
      "37       38     Lintang Nugroho       lintangnugroho@gmail.com   \n",
      "38       39        Indra Astuti          indraastuti@gmail.com   \n",
      "39       40     Kasiyah Hastuti       kasiyahhastuti@gmail.com   \n",
      "40       41      Clara Yulianti        clarayulianti@gmail.com   \n",
      "41       42  Hairyanto Setiawan    hairyantosetiawan@yahoo.com   \n",
      "42       43    Prasetyo Maulana      prasetyomaulana@yahoo.com   \n",
      "43       44     Salimah Prabowo     salimahprabowo@hotmail.com   \n",
      "44       45     Bakiono Prayoga       bakionoprayoga@gmail.com   \n",
      "45       46    Cakrajiya Natsir    cakrajiyanatsir@hotmail.com   \n",
      "46       47     Fathonah Widodo     fathonahwidodo@hotmail.com   \n",
      "47       48     Cahyadi Gunarto     cahyadigunarto@hotmail.com   \n",
      "48       49          Ivan Utama          ivanutama@hotmail.com   \n",
      "49       50      Panji Palastri        panjipalastri@gmail.com   \n",
      "\n",
      "           phone_number  city_id  \n",
      "0     +62-0641-282-6474     1371  \n",
      "1     +62-0488-152-5112     1375  \n",
      "2   +62 (0799) 135 5824     3273  \n",
      "3    +62 (029) 780 5032     3172  \n",
      "4    +62 (375) 462-9843     3174  \n",
      "5     +62 (22) 860 6595     7371  \n",
      "6       (0371) 955-7207     1371  \n",
      "7        (090) 201-0790     3173  \n",
      "8        (000) 332 9058     3174  \n",
      "9    +62 (063) 338 8560     3172  \n",
      "10  +62 (0751) 983-4736     3172  \n",
      "11         086 269 2184     6472  \n",
      "12   +62 (042) 293-6358     3578  \n",
      "13      (0964) 509 2327     5171  \n",
      "14           0851310721     3573  \n",
      "15   +62 (061) 847 6639     3174  \n",
      "16   +62 (166) 717 8145     3471  \n",
      "17      +62-14-424-6286     3273  \n",
      "18      (0894) 425 6821     3171  \n",
      "19      +62-24-893-5654     6472  \n",
      "20    +62 (45) 370 3574     3273  \n",
      "21   +62 (257) 155-7643     6472  \n",
      "22    +62 (40) 993 7144     3573  \n",
      "23       (051) 429 6603     3171  \n",
      "24  +62 (0058) 540-3220     5171  \n",
      "25  +62 (0163) 627 1206     3172  \n",
      "26     +62-713-645-2548     3172  \n",
      "27           0833921683     3175  \n",
      "28       (026) 545-0025     1371  \n",
      "29   +62 (048) 255 2582     3172  \n",
      "30  +62 (0324) 095-0540     3273  \n",
      "31           0883234034     3173  \n",
      "32      (0460) 529-8364     7371  \n",
      "33   +62 (094) 305-2997     3273  \n",
      "34  +62 (0871) 062-4172     3471  \n",
      "35         082 662 9714     1371  \n",
      "36   +62 (041) 427 1518     3171  \n",
      "37           0831106779     3273  \n",
      "38           0894631280     5171  \n",
      "39     +62-688-356-9619     1371  \n",
      "40      (0759) 580 8956     3175  \n",
      "41    +62 (47) 883 6348     3175  \n",
      "42    +62 (52) 753 8293     3173  \n",
      "43    +62 (84) 064 1461     3578  \n",
      "44    +62-0866-182-0396     3172  \n",
      "45   +62 (040) 220-9129     1371  \n",
      "46     +62-057-586-8145     3171  \n",
      "47   +62 (011) 730 3721     3273  \n",
      "48       (061) 628-2515     6471  \n",
      "49     +62-066-404-0361     3175  \n"
     ]
    }
   ],
   "source": [
    "# membuat data table sellers\n",
    "sellers = user_table(50,is_print=True)\n",
    "\n",
    "sellers.rename(columns={'user_id':'seller_id'}, inplace=True)"
   ]
  },
  {
   "cell_type": "code",
   "execution_count": 47,
   "metadata": {},
   "outputs": [
    {
     "name": "stdout",
     "output_type": "stream",
     "text": [
      "    user_id         seller_name                         email  \\\n",
      "0         1       Surya Nababan        suryanababan@gmail.com   \n",
      "1         2       Kenzie Natsir        kenzienatsir@yahoo.com   \n",
      "2         3    Victoria Pertiwi   victoriapertiwi@hotmail.com   \n",
      "3         4       Irsad Gunarto      irsadgunarto@hotmail.com   \n",
      "4         5      Respati Sinaga       respatisinaga@yahoo.com   \n",
      "5         6       Raisa Waskita        raisawaskita@gmail.com   \n",
      "6         7       Ulya Prasetyo      ulyaprasetyo@hotmail.com   \n",
      "7         8    Prabowo Prasetya     prabowoprasetya@yahoo.com   \n",
      "8         9   Kajen Simanjuntak    kajensimanjuntak@gmail.com   \n",
      "9        10       Kasim Pradana      kasimpradana@hotmail.com   \n",
      "10       11        Tedi Ramadan       tediramadan@hotmail.com   \n",
      "11       12    Lanjar Saefullah     lanjarsaefullah@yahoo.com   \n",
      "12       13        Umaya Irawan         umayairawan@yahoo.com   \n",
      "13       14     Belinda Nababan    belindanababan@hotmail.com   \n",
      "14       15     Rahmi Mandasari      rahmimandasari@yahoo.com   \n",
      "15       16     Wakiman Budiman      wakimanbudiman@yahoo.com   \n",
      "16       17       Nalar Damanik        nalardamanik@gmail.com   \n",
      "17       18      Dalimin Januar       daliminjanuar@yahoo.com   \n",
      "18       19        Raina Sirait         rainasirait@yahoo.com   \n",
      "19       20       Jumadi Melani        jumadimelani@gmail.com   \n",
      "20       21  Estiawan Anggraini   estiawananggraini@gmail.com   \n",
      "21       22  Margana Novitasari   margananovitasari@gmail.com   \n",
      "22       23      Jagapati Halim     jagapatihalim@hotmail.com   \n",
      "23       24     Dalima Nasyidah      dalimanasyidah@gmail.com   \n",
      "24       25     Galih Sihombing      galihsihombing@gmail.com   \n",
      "25       26    Nasim Nurdiyanti   nasimnurdiyanti@hotmail.com   \n",
      "26       27    Zelaya Salahudin     zelayasalahudin@yahoo.com   \n",
      "27       28     Kamila Sitompul      kamilasitompul@yahoo.com   \n",
      "28       29     Indah Kurniawan      indahkurniawan@gmail.com   \n",
      "29       30       Usman Samosir        usmansamosir@yahoo.com   \n",
      "30       31   Gilang Mangunsong  gilangmangunsong@hotmail.com   \n",
      "31       32      Alika Haryanti     alikaharyanti@hotmail.com   \n",
      "32       33       Gatot Mulyani        gatotmulyani@gmail.com   \n",
      "33       34  Aslijan Napitupulu   aslijannapitupulu@gmail.com   \n",
      "34       35      Rusman Wahyuni     rusmanwahyuni@hotmail.com   \n",
      "35       36        Ajimat Halim         ajimathalim@yahoo.com   \n",
      "36       37     Marsito Narpati    marsitonarpati@hotmail.com   \n",
      "37       38  Samiah Simanjuntak   samiahsimanjuntak@yahoo.com   \n",
      "38       39        Okto Maryati         oktomaryati@yahoo.com   \n",
      "39       40  Jamalia Firmansyah   jamaliafirmansyah@yahoo.com   \n",
      "40       41    Arsipatra Wacana     arsipatrawacana@gmail.com   \n",
      "41       42         Ida Maryadi          idamaryadi@yahoo.com   \n",
      "42       43    Yulia Widiastuti     yuliawidiastuti@gmail.com   \n",
      "43       44     Aswani Hassanah      aswanihassanah@gmail.com   \n",
      "44       45         Ella Sirait          ellasirait@yahoo.com   \n",
      "45       46        Clara Farida         clarafarida@yahoo.com   \n",
      "46       47     Eka Simanjuntak      ekasimanjuntak@yahoo.com   \n",
      "47       48        Manah Rajasa         manahrajasa@gmail.com   \n",
      "48       49   Cakrawala Pratama    cakrawalapratama@yahoo.com   \n",
      "49       50       Kayla Thamrin        kaylathamrin@gmail.com   \n",
      "\n",
      "           phone_number  city_id  \n",
      "0    +62 (826) 324-8498     1375  \n",
      "1     +62 (94) 035-1870     3578  \n",
      "2    +62 (066) 647 0062     6471  \n",
      "3    +62 (843) 848 6210     3273  \n",
      "4       (0858) 484 6975     3174  \n",
      "5   +62 (0641) 107-9380     1375  \n",
      "6       +62-15-532-9556     3173  \n",
      "7    +62 (270) 278-4565     3173  \n",
      "8      +62-018-337-9526     3171  \n",
      "9        (054) 475-8152     6472  \n",
      "10    +62 (07) 479-3875     7371  \n",
      "11      (0686) 737-1994     3471  \n",
      "12   +62 (083) 119 3408     1375  \n",
      "13     +62-881-758-2031     3471  \n",
      "14         082 903 3072     3471  \n",
      "15    +62-0483-339-7148     7371  \n",
      "16   +62 (583) 185 9032     7371  \n",
      "17     +62-080-721-8341     3173  \n",
      "18       (004) 031 9389     3573  \n",
      "19         084 821 5997     3175  \n",
      "20      +62-85-047-4316     6471  \n",
      "21           0810076998     1375  \n",
      "22           0870358823     1375  \n",
      "23   +62 (041) 419-4302     3273  \n",
      "24      (0748) 108-9600     3172  \n",
      "25    +62 (59) 260-3281     3573  \n",
      "26   +62 (048) 012-8390     3172  \n",
      "27    +62 (25) 869 6150     6471  \n",
      "28       (080) 118-3246     3573  \n",
      "29   +62 (594) 678-7411     3172  \n",
      "30     +62-068-979-0691     3174  \n",
      "31    +62 (05) 623-0706     3172  \n",
      "32      (0101) 078-4052     3175  \n",
      "33    +62 (65) 285-7535     1375  \n",
      "34     +62-733-681-5814     6472  \n",
      "35    +62 (39) 831 3251     3578  \n",
      "36   +62 (316) 085 7769     3172  \n",
      "37    +62-0379-339-5734     6471  \n",
      "38    +62-0561-826-9206     6471  \n",
      "39   +62 (049) 645-3259     3172  \n",
      "40    +62 (49) 547 0789     3172  \n",
      "41    +62-0507-798-5998     3578  \n",
      "42      (0136) 932-8334     3273  \n",
      "43   +62 (972) 953-8199     3578  \n",
      "44     +62-001-529-0611     3171  \n",
      "45       (043) 335-0363     6472  \n",
      "46         089 033 3364     3273  \n",
      "47    +62 (96) 616 1073     1371  \n",
      "48       (052) 911 2613     3175  \n",
      "49       (005) 568-2441     5171  \n"
     ]
    }
   ],
   "source": [
    "# membuat data table buyers\n",
    "buyers = user_table(50,is_print=True)\n",
    "\n",
    "buyers.rename(columns={'user_id':'buyers_id'}, inplace=True)"
   ]
  },
  {
   "attachments": {},
   "cell_type": "markdown",
   "metadata": {},
   "source": [
    "#### Ads"
   ]
  },
  {
   "cell_type": "code",
   "execution_count": 48,
   "metadata": {},
   "outputs": [],
   "source": [
    "def ads_table(n_ads, is_print):\n",
    "\n",
    "    start_date = datetime(2022, 1, 1)\n",
    "\n",
    "    end_date = datetime(2022, 6, 30)\n",
    "\n",
    "    # Buat table\n",
    "    table = pd.DataFrame()\n",
    "    table['ads_id'] = [i+1 for i in range(n_ads)]\n",
    "    table['seller_id'] = [random.choice(range(1,50)) for i in range(n_ads)]\n",
    "    table['product_id'] = [random.choice(range(1,200)) for i in range(n_ads)]\n",
    "    table['model'] = table['product_id'].map(cars.set_index('product_id').model)\n",
    "    table['price'] = table['product_id'].map(cars.set_index('product_id').price)\n",
    "    table['ads_title'] = [' dijual cepat Rp'.join(i) for i in zip(table[\"model\"].map(str),table[\"price\"].map(str))]\n",
    "    table['date_post'] = [FAKER.date_time_between(start_date=start_date, end_date=end_date) for i in range(n_ads)]\n",
    "    table.drop(columns=['model','price'],inplace=True)\n",
    "\n",
    "    # Print table\n",
    "    if is_print:\n",
    "        print(table)\n",
    "\n",
    "    return table"
   ]
  },
  {
   "cell_type": "code",
   "execution_count": 49,
   "metadata": {},
   "outputs": [
    {
     "name": "stdout",
     "output_type": "stream",
     "text": [
      "    ads_id  seller_id  product_id                                 ads_title  \\\n",
      "0        1         27          86       Honda CR-V dijual cepat Rp159000000   \n",
      "1        2          4          65     Toyota Calya dijual cepat Rp113000000   \n",
      "2        3         13         197    Suzuki Ertiga dijual cepat Rp155500000   \n",
      "3        4          5         155     Toyota Yaris dijual cepat Rp189900000   \n",
      "4        5          7         125  Daihatsu Terios dijual cepat Rp175000000   \n",
      "..     ...        ...         ...                                       ...   \n",
      "95      96         35          25  Daihatsu Terios dijual cepat Rp201000000   \n",
      "96      97         21         194      Honda Civic dijual cepat Rp115000000   \n",
      "97      98         48         118    Daihatsu Ayla dijual cepat Rp350000000   \n",
      "98      99          3         169    Daihatsu Ayla dijual cepat Rp415000000   \n",
      "99     100         17         110      Toyota Agya dijual cepat Rp397500000   \n",
      "\n",
      "             date_post  \n",
      "0  2022-06-08 13:45:02  \n",
      "1  2022-06-14 15:24:37  \n",
      "2  2022-05-22 13:15:22  \n",
      "3  2022-02-22 01:35:46  \n",
      "4  2022-05-12 07:27:20  \n",
      "..                 ...  \n",
      "95 2022-02-22 09:07:10  \n",
      "96 2022-05-19 14:18:08  \n",
      "97 2022-01-18 09:21:27  \n",
      "98 2022-03-13 05:46:48  \n",
      "99 2022-04-21 04:03:49  \n",
      "\n",
      "[100 rows x 5 columns]\n"
     ]
    }
   ],
   "source": [
    "# membuat data table ads\n",
    "ads = ads_table(100, is_print=True)"
   ]
  },
  {
   "attachments": {},
   "cell_type": "markdown",
   "metadata": {},
   "source": [
    "#### Bid"
   ]
  },
  {
   "cell_type": "code",
   "execution_count": 50,
   "metadata": {},
   "outputs": [],
   "source": [
    "def bids_table(n_bids, is_print):\n",
    "\n",
    "    start_date = datetime(2022, 6, 1)\n",
    "\n",
    "    end_date = datetime(2022, 12, 31)\n",
    "\n",
    "    # Buat table\n",
    "    table = pd.DataFrame()\n",
    "    table['bid_id'] = [i+1 for i in range(n_bids)]\n",
    "    table['ads_id'] = [random.choice(range(1,100)) for i in range(n_bids)]\n",
    "    table['buyer_id'] = [random.choice(range(1,50)) for i in range(n_bids)]\n",
    "    table['bid_price'] = [random.choice(range(100000000,500000000)) for i in range(n_bids)]\n",
    "    table['bid_status'] = 'Sent'\n",
    "    table['date_bid'] = [FAKER.date_time_between(start_date=start_date, end_date=end_date) for i in range(n_bids)]\n",
    "\n",
    "    # Print table\n",
    "    if is_print:\n",
    "        print(table)\n",
    "\n",
    "    return table"
   ]
  },
  {
   "cell_type": "code",
   "execution_count": 51,
   "metadata": {},
   "outputs": [
    {
     "name": "stdout",
     "output_type": "stream",
     "text": [
      "     bid_id  ads_id  buyer_id  bid_price bid_status            date_bid\n",
      "0         1       4         7  468578052       Sent 2022-11-26 18:17:18\n",
      "1         2      30        25  461671268       Sent 2022-12-20 01:46:57\n",
      "2         3       6        32  287185241       Sent 2022-09-22 05:13:47\n",
      "3         4      32        41  366592943       Sent 2022-11-27 01:16:27\n",
      "4         5      48        17  115042031       Sent 2022-08-24 21:10:33\n",
      "..      ...     ...       ...        ...        ...                 ...\n",
      "195     196      67        26  365065442       Sent 2022-08-03 16:17:20\n",
      "196     197      30        26  267030545       Sent 2022-08-14 03:05:26\n",
      "197     198      27        20  361074494       Sent 2022-09-24 08:36:42\n",
      "198     199      93        22  336515098       Sent 2022-06-27 15:56:24\n",
      "199     200      45        28  203430782       Sent 2022-09-17 05:54:14\n",
      "\n",
      "[200 rows x 6 columns]\n"
     ]
    }
   ],
   "source": [
    "# membuat data table bids\n",
    "bids = bids_table(200, is_print=True)"
   ]
  },
  {
   "attachments": {},
   "cell_type": "markdown",
   "metadata": {},
   "source": [
    "#### Convert ke CSV"
   ]
  },
  {
   "cell_type": "code",
   "execution_count": 52,
   "metadata": {},
   "outputs": [],
   "source": [
    "cities.to_csv('output/cities.csv',index=False)\n",
    "cars.to_csv('output/cars.csv',index=False)\n",
    "sellers.to_csv('output/sellers.csv',index=False)\n",
    "buyers.to_csv('output/buyers.csv',index=False)\n",
    "ads.to_csv('output/ads.csv',index=False)\n",
    "bids.to_csv('output/bids.csv',index=False)"
   ]
  },
  {
   "cell_type": "code",
   "execution_count": null,
   "metadata": {},
   "outputs": [],
   "source": []
  },
  {
   "cell_type": "code",
   "execution_count": null,
   "metadata": {},
   "outputs": [],
   "source": []
  },
  {
   "cell_type": "code",
   "execution_count": null,
   "metadata": {},
   "outputs": [],
   "source": []
  },
  {
   "cell_type": "code",
   "execution_count": null,
   "metadata": {},
   "outputs": [],
   "source": []
  }
 ],
 "metadata": {
  "kernelspec": {
   "display_name": "dakfisik",
   "language": "python",
   "name": "python3"
  },
  "language_info": {
   "codemirror_mode": {
    "name": "ipython",
    "version": 3
   },
   "file_extension": ".py",
   "mimetype": "text/x-python",
   "name": "python",
   "nbconvert_exporter": "python",
   "pygments_lexer": "ipython3",
   "version": "3.9.15"
  },
  "orig_nbformat": 4
 },
 "nbformat": 4,
 "nbformat_minor": 2
}
